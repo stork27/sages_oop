{
 "cells": [
  {
   "cell_type": "markdown",
   "metadata": {},
   "source": [
    "# Programowanie obiektowe"
   ]
  },
  {
   "cell_type": "code",
   "execution_count": 1,
   "metadata": {
    "collapsed": true
   },
   "outputs": [],
   "source": [
    "class human():\n",
    "    pass #omijamy definicje"
   ]
  },
  {
   "cell_type": "markdown",
   "metadata": {},
   "source": [
    "\n",
    "# tworzenie klasy"
   ]
  },
  {
   "cell_type": "code",
   "execution_count": 11,
   "metadata": {
    "collapsed": true
   },
   "outputs": [],
   "source": [
    "class human:\n",
    "    #konstruktor\n",
    "    def __init__(self, name, surname, weight):\n",
    "        self.name=name\n",
    "        self.surname=surname\n",
    "        self.weight=weight\n",
    "        self.sex='female'\n",
    "        self.marital_status='single'"
   ]
  },
  {
   "cell_type": "code",
   "execution_count": 12,
   "metadata": {
    "collapsed": false
   },
   "outputs": [],
   "source": [
    "ania=human('Ania', 'Nowak',55)"
   ]
  },
  {
   "cell_type": "code",
   "execution_count": 6,
   "metadata": {
    "collapsed": false
   },
   "outputs": [
    {
     "data": {
      "text/plain": [
       "<__main__.human at 0x7fb900e9f7b8>"
      ]
     },
     "execution_count": 6,
     "metadata": {},
     "output_type": "execute_result"
    }
   ],
   "source": [
    "ania #main ze obeikt w kodzie main, z obiektu human jako 0x....."
   ]
  },
  {
   "cell_type": "code",
   "execution_count": 13,
   "metadata": {
    "collapsed": false
   },
   "outputs": [
    {
     "data": {
      "text/plain": [
       "'Ania'"
      ]
     },
     "execution_count": 13,
     "metadata": {},
     "output_type": "execute_result"
    }
   ],
   "source": [
    "ania.name"
   ]
  },
  {
   "cell_type": "code",
   "execution_count": 14,
   "metadata": {
    "collapsed": false
   },
   "outputs": [
    {
     "data": {
      "text/plain": [
       "55"
      ]
     },
     "execution_count": 14,
     "metadata": {},
     "output_type": "execute_result"
    }
   ],
   "source": [
    "ania.weight"
   ]
  },
  {
   "cell_type": "code",
   "execution_count": 15,
   "metadata": {
    "collapsed": true
   },
   "outputs": [],
   "source": [
    "ania.weight-=5"
   ]
  },
  {
   "cell_type": "code",
   "execution_count": 16,
   "metadata": {
    "collapsed": false
   },
   "outputs": [
    {
     "data": {
      "text/plain": [
       "50"
      ]
     },
     "execution_count": 16,
     "metadata": {},
     "output_type": "execute_result"
    }
   ],
   "source": [
    "ania.weight\n"
   ]
  },
  {
   "cell_type": "code",
   "execution_count": 19,
   "metadata": {
    "collapsed": true
   },
   "outputs": [],
   "source": [
    "ania.height=160#dodaje wzrost, ale tylko Ani żaden inny obiekt tej klasy nie ma tego parametru"
   ]
  },
  {
   "cell_type": "code",
   "execution_count": 18,
   "metadata": {
    "collapsed": false
   },
   "outputs": [
    {
     "data": {
      "text/plain": [
       "160"
      ]
     },
     "execution_count": 18,
     "metadata": {},
     "output_type": "execute_result"
    }
   ],
   "source": [
    "ania.height"
   ]
  },
  {
   "cell_type": "code",
   "execution_count": 20,
   "metadata": {
    "collapsed": true
   },
   "outputs": [],
   "source": [
    "#metoda funkcja nie zwracajaca wynku"
   ]
  },
  {
   "cell_type": "code",
   "execution_count": 21,
   "metadata": {
    "collapsed": false
   },
   "outputs": [
    {
     "data": {
      "text/plain": [
       "{'height': 160,\n",
       " 'marital_status': 'single',\n",
       " 'name': 'Ania',\n",
       " 'sex': 'female',\n",
       " 'surname': 'Nowak',\n",
       " 'weight': 50}"
      ]
     },
     "execution_count": 21,
     "metadata": {},
     "output_type": "execute_result"
    }
   ],
   "source": [
    "ania.__dict__"
   ]
  },
  {
   "cell_type": "code",
   "execution_count": 22,
   "metadata": {
    "collapsed": false
   },
   "outputs": [
    {
     "data": {
      "text/plain": [
       "dict"
      ]
     },
     "execution_count": 22,
     "metadata": {},
     "output_type": "execute_result"
    }
   ],
   "source": [
    "type(ania.__dict__)"
   ]
  },
  {
   "cell_type": "code",
   "execution_count": 24,
   "metadata": {
    "collapsed": false
   },
   "outputs": [
    {
     "data": {
      "text/plain": [
       "['__class__',\n",
       " '__delattr__',\n",
       " '__dict__',\n",
       " '__dir__',\n",
       " '__doc__',\n",
       " '__eq__',\n",
       " '__format__',\n",
       " '__ge__',\n",
       " '__getattribute__',\n",
       " '__gt__',\n",
       " '__hash__',\n",
       " '__init__',\n",
       " '__init_subclass__',\n",
       " '__le__',\n",
       " '__lt__',\n",
       " '__module__',\n",
       " '__ne__',\n",
       " '__new__',\n",
       " '__reduce__',\n",
       " '__reduce_ex__',\n",
       " '__repr__',\n",
       " '__setattr__',\n",
       " '__sizeof__',\n",
       " '__str__',\n",
       " '__subclasshook__',\n",
       " '__weakref__',\n",
       " 'height',\n",
       " 'marital_status',\n",
       " 'name',\n",
       " 'sex',\n",
       " 'surname',\n",
       " 'weight']"
      ]
     },
     "execution_count": 24,
     "metadata": {},
     "output_type": "execute_result"
    }
   ],
   "source": [
    "dir(ania)#metody i parametry"
   ]
  },
  {
   "cell_type": "code",
   "execution_count": 26,
   "metadata": {
    "collapsed": false
   },
   "outputs": [
    {
     "data": {
      "text/plain": [
       "{'height': 160,\n",
       " 'marital_status': 'single',\n",
       " 'name': 'Ania',\n",
       " 'sex': 'female',\n",
       " 'surname': 'Nowak',\n",
       " 'weight': 50}"
      ]
     },
     "execution_count": 26,
     "metadata": {},
     "output_type": "execute_result"
    }
   ],
   "source": [
    "ania.__dict__"
   ]
  },
  {
   "cell_type": "code",
   "execution_count": 27,
   "metadata": {
    "collapsed": true
   },
   "outputs": [],
   "source": [
    "del ania.marital_status"
   ]
  },
  {
   "cell_type": "code",
   "execution_count": 28,
   "metadata": {
    "collapsed": false
   },
   "outputs": [
    {
     "data": {
      "text/plain": [
       "{'height': 160,\n",
       " 'name': 'Ania',\n",
       " 'sex': 'female',\n",
       " 'surname': 'Nowak',\n",
       " 'weight': 50}"
      ]
     },
     "execution_count": 28,
     "metadata": {},
     "output_type": "execute_result"
    }
   ],
   "source": [
    "ania.__dict__"
   ]
  },
  {
   "cell_type": "code",
   "execution_count": 56,
   "metadata": {
    "collapsed": true
   },
   "outputs": [],
   "source": [
    "class human:\n",
    "    \n",
    "    # Atrybuty klasowe\n",
    "    species = 'homo-sapiens'\n",
    "    \n",
    "    #konstruktor\n",
    "    def __init__(self, name, surname, weight):\n",
    "        self.name=name\n",
    "        self.surname=surname\n",
    "        self.weight=weight\n",
    "\n",
    "        "
   ]
  },
  {
   "cell_type": "code",
   "execution_count": 37,
   "metadata": {
    "collapsed": true
   },
   "outputs": [],
   "source": [
    "ewa=human('Ewa','Nowak',54,)"
   ]
  },
  {
   "cell_type": "code",
   "execution_count": 38,
   "metadata": {
    "collapsed": false
   },
   "outputs": [
    {
     "data": {
      "text/plain": [
       "{'name': 'Ewa', 'surname': 'Nowak', 'weight': 54}"
      ]
     },
     "execution_count": 38,
     "metadata": {},
     "output_type": "execute_result"
    }
   ],
   "source": [
    "ewa.__dict__"
   ]
  },
  {
   "cell_type": "code",
   "execution_count": 39,
   "metadata": {
    "collapsed": false
   },
   "outputs": [
    {
     "data": {
      "text/plain": [
       "'homo-sapiens'"
      ]
     },
     "execution_count": 39,
     "metadata": {},
     "output_type": "execute_result"
    }
   ],
   "source": [
    "ewa.species"
   ]
  },
  {
   "cell_type": "code",
   "execution_count": 40,
   "metadata": {
    "collapsed": false
   },
   "outputs": [
    {
     "data": {
      "text/plain": [
       "['__class__',\n",
       " '__delattr__',\n",
       " '__dict__',\n",
       " '__dir__',\n",
       " '__doc__',\n",
       " '__eq__',\n",
       " '__format__',\n",
       " '__ge__',\n",
       " '__getattribute__',\n",
       " '__gt__',\n",
       " '__hash__',\n",
       " '__init__',\n",
       " '__init_subclass__',\n",
       " '__le__',\n",
       " '__lt__',\n",
       " '__module__',\n",
       " '__ne__',\n",
       " '__new__',\n",
       " '__reduce__',\n",
       " '__reduce_ex__',\n",
       " '__repr__',\n",
       " '__setattr__',\n",
       " '__sizeof__',\n",
       " '__str__',\n",
       " '__subclasshook__',\n",
       " '__weakref__',\n",
       " 'name',\n",
       " 'species',\n",
       " 'surname',\n",
       " 'weight']"
      ]
     },
     "execution_count": 40,
     "metadata": {},
     "output_type": "execute_result"
    }
   ],
   "source": [
    "dir(ewa)"
   ]
  },
  {
   "cell_type": "code",
   "execution_count": 47,
   "metadata": {
    "collapsed": true
   },
   "outputs": [],
   "source": [
    "#uwaga mimo wszystko da sie nadpisac atrybut ustalony na sztywno w klasie\n",
    "ewa.species='homo-erectus'"
   ]
  },
  {
   "cell_type": "code",
   "execution_count": 48,
   "metadata": {
    "collapsed": false
   },
   "outputs": [
    {
     "data": {
      "text/plain": [
       "'homo-erectus'"
      ]
     },
     "execution_count": 48,
     "metadata": {},
     "output_type": "execute_result"
    }
   ],
   "source": [
    "ewa.species"
   ]
  },
  {
   "cell_type": "code",
   "execution_count": 57,
   "metadata": {
    "collapsed": true
   },
   "outputs": [],
   "source": [
    "adam=human('Adam','Nowak',77)"
   ]
  },
  {
   "cell_type": "code",
   "execution_count": 58,
   "metadata": {
    "collapsed": false
   },
   "outputs": [
    {
     "data": {
      "text/plain": [
       "'homo-sapiens'"
      ]
     },
     "execution_count": 58,
     "metadata": {},
     "output_type": "execute_result"
    }
   ],
   "source": [
    "adam.species"
   ]
  },
  {
   "cell_type": "code",
   "execution_count": null,
   "metadata": {
    "collapsed": true
   },
   "outputs": [],
   "source": []
  },
  {
   "cell_type": "code",
   "execution_count": 59,
   "metadata": {
    "collapsed": false
   },
   "outputs": [
    {
     "data": {
      "text/plain": [
       "'homo-erectus'"
      ]
     },
     "execution_count": 59,
     "metadata": {},
     "output_type": "execute_result"
    }
   ],
   "source": [
    "human.species='homo-erectus'#zmiana na wszystkich, ale tylko atrybuty, nie parametry\n",
    "adam.species"
   ]
  },
  {
   "cell_type": "code",
   "execution_count": 69,
   "metadata": {
    "collapsed": false
   },
   "outputs": [],
   "source": [
    "class human:\n",
    "    \n",
    "    # Atrybuty klasowe\n",
    "    species = 'homo-sapiens'\n",
    "    \n",
    "    #konstruktor\n",
    "    def __init__(self, name, surname, weight):\n",
    "        self.name=name\n",
    "        self.surname=surname\n",
    "        self.weight=weight\n",
    "        \n",
    "    def say_hello(self):\n",
    "        print(\"Hello I'm {} {}\".format(self.name,self.surname))"
   ]
  },
  {
   "cell_type": "code",
   "execution_count": 70,
   "metadata": {
    "collapsed": false
   },
   "outputs": [],
   "source": [
    "adam=human('Adam','Nowak',77)"
   ]
  },
  {
   "cell_type": "code",
   "execution_count": 71,
   "metadata": {
    "collapsed": false
   },
   "outputs": [
    {
     "name": "stdout",
     "output_type": "stream",
     "text": [
      "Hello I'm Adam Nowak\n"
     ]
    }
   ],
   "source": [
    "adam.say_hello()"
   ]
  },
  {
   "cell_type": "markdown",
   "metadata": {},
   "source": [
    "# Properties"
   ]
  },
  {
   "cell_type": "code",
   "execution_count": 96,
   "metadata": {
    "collapsed": false
   },
   "outputs": [],
   "source": [
    "class human:\n",
    "    \n",
    "    # Atrybuty klasowe\n",
    "    species = 'homo-sapiens'\n",
    "    \n",
    "    #konstruktor\n",
    "    def __init__(self, name, surname, weight):\n",
    "        self.name=name\n",
    "        self.surname=surname\n",
    "        self.weight=weight\n",
    "        \n",
    "    def say_hello(self):\n",
    "        print(\"Hello I'm {} {}\".format(self.name,self.surname))\n",
    "        \n",
    "    @property\n",
    "    def like_bond_name(self):\n",
    "        return \"{surname},{name} {surname}\".format(surname=self.surname,name=self.name)\n",
    "    \n",
    "    "
   ]
  },
  {
   "cell_type": "code",
   "execution_count": 97,
   "metadata": {
    "collapsed": false
   },
   "outputs": [],
   "source": [
    "adam=human('Adam','Nowak',77)"
   ]
  },
  {
   "cell_type": "code",
   "execution_count": 99,
   "metadata": {
    "collapsed": false
   },
   "outputs": [
    {
     "data": {
      "text/plain": [
       "'Nowak,Adam Nowak'"
      ]
     },
     "execution_count": 99,
     "metadata": {},
     "output_type": "execute_result"
    }
   ],
   "source": [
    "adam.like_bond_name #jak nie ma @property to z nawiasami i trzeba jako funkcja, a teraz jako atrybut"
   ]
  },
  {
   "cell_type": "code",
   "execution_count": 100,
   "metadata": {
    "collapsed": true
   },
   "outputs": [],
   "source": [
    "\n",
    "    \n",
    "    "
   ]
  },
  {
   "cell_type": "markdown",
   "metadata": {},
   "source": [
    "# Metody specjalne"
   ]
  },
  {
   "cell_type": "code",
   "execution_count": 101,
   "metadata": {
    "collapsed": false
   },
   "outputs": [
    {
     "data": {
      "text/plain": [
       "<__main__.human at 0x7fb9016f9518>"
      ]
     },
     "execution_count": 101,
     "metadata": {},
     "output_type": "execute_result"
    }
   ],
   "source": [
    "adam"
   ]
  },
  {
   "cell_type": "code",
   "execution_count": 102,
   "metadata": {
    "collapsed": false
   },
   "outputs": [
    {
     "data": {
      "text/plain": [
       "'<__main__.human object at 0x7fb9016f9518>'"
      ]
     },
     "execution_count": 102,
     "metadata": {},
     "output_type": "execute_result"
    }
   ],
   "source": [
    "repr(adam)"
   ]
  },
  {
   "cell_type": "code",
   "execution_count": 115,
   "metadata": {
    "collapsed": true
   },
   "outputs": [],
   "source": [
    "class human:\n",
    "    \n",
    "    # Atrybuty klasowe\n",
    "    species = 'homo-sapiens'\n",
    "    \n",
    "    #konstruktor\n",
    "    def __init__(self, name, surname, weight, height):\n",
    "        self.name=name\n",
    "        self.surname=surname\n",
    "        self.weight=weight\n",
    "        self.height=height\n",
    "        \n",
    "    def say_hello(self):\n",
    "        print(\"Hello I'm {} {}\".format(self.name,self.surname))\n",
    "        \n",
    "    @property\n",
    "    def like_bond_name(self):\n",
    "        return \"{surname},{name} {surname}\".format(surname=self.surname,name=self.name)\n",
    "    \n",
    "    \n",
    "    def __str__(self): # tylko  predefiniowane funkcje one tworzą kod bardziej uniwersalnym\n",
    "        return self.like_bond_name\n",
    "    \n",
    "    def __len__(self):\n",
    "        return self.height\n",
    "    \n",
    "    def __repr__(self):\n",
    "        return \"{} wirh name: {}\".format(self.__class__,self.name)"
   ]
  },
  {
   "cell_type": "code",
   "execution_count": 116,
   "metadata": {
    "collapsed": false
   },
   "outputs": [],
   "source": [
    "adam=human('Adam','Nowak',77,180)"
   ]
  },
  {
   "cell_type": "code",
   "execution_count": 117,
   "metadata": {
    "collapsed": false
   },
   "outputs": [
    {
     "data": {
      "text/plain": [
       "'Nowak,Adam Nowak'"
      ]
     },
     "execution_count": 117,
     "metadata": {},
     "output_type": "execute_result"
    }
   ],
   "source": [
    "str(adam)"
   ]
  },
  {
   "cell_type": "code",
   "execution_count": 114,
   "metadata": {
    "collapsed": false
   },
   "outputs": [
    {
     "data": {
      "text/plain": [
       "180"
      ]
     },
     "execution_count": 114,
     "metadata": {},
     "output_type": "execute_result"
    }
   ],
   "source": [
    "len(adam)"
   ]
  },
  {
   "cell_type": "code",
   "execution_count": 119,
   "metadata": {
    "collapsed": false
   },
   "outputs": [
    {
     "data": {
      "text/plain": [
       "<class '__main__.human'> wirh name: Adam"
      ]
     },
     "execution_count": 119,
     "metadata": {},
     "output_type": "execute_result"
    }
   ],
   "source": [
    "adam #repr bieze domyslnie"
   ]
  },
  {
   "cell_type": "code",
   "execution_count": 121,
   "metadata": {
    "collapsed": false
   },
   "outputs": [
    {
     "name": "stdout",
     "output_type": "stream",
     "text": [
      "Nowak,Adam Nowak\n"
     ]
    }
   ],
   "source": [
    "print(adam)# teraz w domysle bierze str"
   ]
  },
  {
   "cell_type": "markdown",
   "metadata": {},
   "source": [
    "# Zadanie1"
   ]
  },
  {
   "cell_type": "code",
   "execution_count": 295,
   "metadata": {
    "collapsed": false
   },
   "outputs": [],
   "source": [
    "import  random\n",
    "\n",
    "class car:\n",
    "    \n",
    "        #konstruktor\n",
    "    def __init__(self,name, brand, engine, volume, consumption, milage, color):\n",
    "        self.name=name\n",
    "        self.brand=brand\n",
    "        self.engine=engine\n",
    "        self.volume=volume\n",
    "        self.consumption=consumption\n",
    "        self.milage=milage\n",
    "        if color==None:\n",
    "            self.color=random.choice([\"pink\",\"red\",\"blue\"])\n",
    "        else:\n",
    "            self.color=color\n",
    "        \n",
    "    def __repr__(self):\n",
    "        return \"Samochód {} {}\".format(self.name,self.brand)\n",
    "    def __str__(self,consumption):\n",
    "        return \"{} {}\".format(self.name,self.brand)\n",
    "    def go(self):\n",
    "        self.milage=self.milage+50\n",
    "        \n",
    "    def per_km(self):\n",
    "        return self.consumption*0.425\n",
    "        \n",
    "car1=car('Escord','Ford','LPG',1.8,8,1000,None)\n",
    "car2=car('Fiesta','Ford','LPG',2.0,7,1100,'red')\n",
    "car3=car('Mondeo','Ford','LPG',1.6,9,1200,'yellow')"
   ]
  },
  {
   "cell_type": "code",
   "execution_count": 163,
   "metadata": {
    "collapsed": false
   },
   "outputs": [],
   "source": [
    "lista_car=[car1,car2,car3]"
   ]
  },
  {
   "cell_type": "code",
   "execution_count": 238,
   "metadata": {
    "collapsed": false
   },
   "outputs": [
    {
     "data": {
      "text/plain": [
       "3.4"
      ]
     },
     "execution_count": 238,
     "metadata": {},
     "output_type": "execute_result"
    }
   ],
   "source": [
    "car1.per_km()"
   ]
  },
  {
   "cell_type": "code",
   "execution_count": 170,
   "metadata": {
    "collapsed": false
   },
   "outputs": [
    {
     "data": {
      "text/plain": [
       "list"
      ]
     },
     "execution_count": 170,
     "metadata": {},
     "output_type": "execute_result"
    }
   ],
   "source": [
    "type(lista_car)"
   ]
  },
  {
   "cell_type": "code",
   "execution_count": 169,
   "metadata": {
    "collapsed": false
   },
   "outputs": [
    {
     "data": {
      "text/plain": [
       "__main__.car"
      ]
     },
     "execution_count": 169,
     "metadata": {},
     "output_type": "execute_result"
    }
   ],
   "source": [
    "type(car1)"
   ]
  },
  {
   "cell_type": "code",
   "execution_count": 154,
   "metadata": {
    "collapsed": false
   },
   "outputs": [
    {
     "data": {
      "text/plain": [
       "'yellow'"
      ]
     },
     "execution_count": 154,
     "metadata": {},
     "output_type": "execute_result"
    }
   ],
   "source": [
    "random.choice([\"pink\",\"yellow\"])"
   ]
  },
  {
   "cell_type": "code",
   "execution_count": 166,
   "metadata": {
    "collapsed": false
   },
   "outputs": [
    {
     "data": {
      "text/plain": [
       "'red'"
      ]
     },
     "execution_count": 166,
     "metadata": {},
     "output_type": "execute_result"
    }
   ],
   "source": [
    "car2.color"
   ]
  },
  {
   "cell_type": "code",
   "execution_count": 189,
   "metadata": {
    "collapsed": false
   },
   "outputs": [],
   "source": [
    "car1.go()"
   ]
  },
  {
   "cell_type": "code",
   "execution_count": 190,
   "metadata": {
    "collapsed": false
   },
   "outputs": [
    {
     "data": {
      "text/plain": [
       "1050"
      ]
     },
     "execution_count": 190,
     "metadata": {},
     "output_type": "execute_result"
    }
   ],
   "source": [
    "car1.milage"
   ]
  },
  {
   "cell_type": "code",
   "execution_count": 450,
   "metadata": {
    "collapsed": true
   },
   "outputs": [],
   "source": [
    "class human:\n",
    "\n",
    "    counter=1\n",
    "    #konstruktor\n",
    "    def __init__(self,names, weight, height):\n",
    "        self.id=human.counter\n",
    "        self.name=names\n",
    "        self.weight=weight\n",
    "        self.height=height\n",
    "        human.counter+=1\n",
    "        \n",
    "    def bmi(self):\n",
    "        bmi=self.weight/(self.height/100)**2\n",
    "        return bmi\n",
    "    def eat(self,calories):\n",
    "        return \"{} eats {} kcal\".format(self.name,calories)\n",
    "    def exercise(self,hours):\n",
    "        return \"{} can exercise {}h\".format(self.name,hours)\n",
    "    def __repr__(self):\n",
    "        return \"{} with name {}\".format(self.__class__,self.name)"
   ]
  },
  {
   "cell_type": "code",
   "execution_count": 437,
   "metadata": {
    "collapsed": false
   },
   "outputs": [
    {
     "data": {
      "text/plain": [
       "1"
      ]
     },
     "execution_count": 437,
     "metadata": {},
     "output_type": "execute_result"
    }
   ],
   "source": [
    "czl1=human('A',77,180)\n",
    "czl1.id\n"
   ]
  },
  {
   "cell_type": "code",
   "execution_count": 438,
   "metadata": {
    "collapsed": false
   },
   "outputs": [
    {
     "data": {
      "text/plain": [
       "'A eats 12 kcal'"
      ]
     },
     "execution_count": 438,
     "metadata": {},
     "output_type": "execute_result"
    }
   ],
   "source": [
    "czl1.eat(12)"
   ]
  },
  {
   "cell_type": "code",
   "execution_count": 439,
   "metadata": {
    "collapsed": false
   },
   "outputs": [
    {
     "data": {
      "text/plain": [
       "23.76543209876543"
      ]
     },
     "execution_count": 439,
     "metadata": {},
     "output_type": "execute_result"
    }
   ],
   "source": [
    "czl1.bmi()"
   ]
  },
  {
   "cell_type": "code",
   "execution_count": 440,
   "metadata": {
    "collapsed": false
   },
   "outputs": [],
   "source": [
    "human_list=[]\n",
    "for i in range(100):\n",
    "    human_list.append(human(random.choice([\"Jacek\",\"Ania\",\"Adam\"]),random.randint(30,100),random.randint(120,200)))\n",
    "    #print( human_list[i].name)"
   ]
  },
  {
   "cell_type": "code",
   "execution_count": 417,
   "metadata": {
    "collapsed": false
   },
   "outputs": [
    {
     "name": "stdout",
     "output_type": "stream",
     "text": [
      "Collecting Faker\n",
      "  Downloading https://files.pythonhosted.org/packages/d9/eb/6d13451769976f79c9043db562da22302a2c3d96e5d6427e8517fec9d2e5/Faker-0.9.2-py2.py3-none-any.whl (766kB)\n",
      "\u001b[K    100% |████████████████████████████████| 768kB 1.1MB/s ta 0:00:011\n",
      "\u001b[?25hRequirement already satisfied: six>=1.10 in /home/lukasz/anaconda3/lib/python3.6/site-packages (from Faker)\n",
      "Requirement already satisfied: python-dateutil>=2.4 in /home/lukasz/anaconda3/lib/python3.6/site-packages (from Faker)\n",
      "Collecting text-unidecode==1.2 (from Faker)\n",
      "  Downloading https://files.pythonhosted.org/packages/79/42/d717cc2b4520fb09e45b344b1b0b4e81aa672001dd128c180fabc655c341/text_unidecode-1.2-py2.py3-none-any.whl (77kB)\n",
      "\u001b[K    100% |████████████████████████████████| 81kB 6.4MB/s eta 0:00:01\n",
      "\u001b[?25hInstalling collected packages: text-unidecode, Faker\n",
      "Successfully installed Faker-0.9.2 text-unidecode-1.2\n",
      "\u001b[33mYou are using pip version 9.0.1, however version 18.1 is available.\n",
      "You should consider upgrading via the 'pip install --upgrade pip' command.\u001b[0m\n"
     ]
    }
   ],
   "source": [
    "!pip install Faker #import paczki"
   ]
  },
  {
   "cell_type": "code",
   "execution_count": 419,
   "metadata": {
    "collapsed": false
   },
   "outputs": [],
   "source": [
    "from faker import Faker"
   ]
  },
  {
   "cell_type": "code",
   "execution_count": 430,
   "metadata": {
    "collapsed": false
   },
   "outputs": [
    {
     "data": {
      "text/plain": [
       "'pani Marika Paździora'"
      ]
     },
     "execution_count": 430,
     "metadata": {},
     "output_type": "execute_result"
    }
   ],
   "source": [
    "fake=Faker('pl_PL') #instancja-obiekt klasy Faker\n",
    "fake.name()"
   ]
  },
  {
   "cell_type": "code",
   "execution_count": 451,
   "metadata": {
    "collapsed": true
   },
   "outputs": [],
   "source": [
    "list_of_humans=[human(fake.name(),fake.random_int(60,100),fake.random_int(150,200)) for i in range(20)]"
   ]
  },
  {
   "cell_type": "code",
   "execution_count": 442,
   "metadata": {
    "collapsed": false
   },
   "outputs": [
    {
     "data": {
      "text/plain": [
       "list"
      ]
     },
     "execution_count": 442,
     "metadata": {},
     "output_type": "execute_result"
    }
   ],
   "source": [
    "type(list_of_humans)"
   ]
  },
  {
   "cell_type": "code",
   "execution_count": 443,
   "metadata": {
    "collapsed": false
   },
   "outputs": [
    {
     "data": {
      "text/plain": [
       "__main__.human"
      ]
     },
     "execution_count": 443,
     "metadata": {},
     "output_type": "execute_result"
    }
   ],
   "source": [
    "type(list_of_humans[0])"
   ]
  },
  {
   "cell_type": "code",
   "execution_count": 452,
   "metadata": {
    "collapsed": false
   },
   "outputs": [
    {
     "data": {
      "text/plain": [
       "[<class '__main__.human'> with name Tola Kurant,\n",
       " <class '__main__.human'> with name Sylwia Gogola,\n",
       " <class '__main__.human'> with name pani Krystyna Delekta,\n",
       " <class '__main__.human'> with name Dariusz Stanclik,\n",
       " <class '__main__.human'> with name Karina Dorawa,\n",
       " <class '__main__.human'> with name pani Liwia Żuchowicz,\n",
       " <class '__main__.human'> with name pan Tobiasz Wocial,\n",
       " <class '__main__.human'> with name Marcelina Stelmasiak,\n",
       " <class '__main__.human'> with name Karina Siarkiewicz,\n",
       " <class '__main__.human'> with name Aleks Koleśnik,\n",
       " <class '__main__.human'> with name Julian Saran,\n",
       " <class '__main__.human'> with name pan Olaf Gabrych,\n",
       " <class '__main__.human'> with name pan Albert Kotlarek,\n",
       " <class '__main__.human'> with name pani Monika Łyp,\n",
       " <class '__main__.human'> with name Cezary Przewoźna,\n",
       " <class '__main__.human'> with name pani Tola Ślęczka,\n",
       " <class '__main__.human'> with name pan Jędrzej Podkowa,\n",
       " <class '__main__.human'> with name Damian Obuchowicz,\n",
       " <class '__main__.human'> with name Patryk Zawalich,\n",
       " <class '__main__.human'> with name Marcel Niemczuk]"
      ]
     },
     "execution_count": 452,
     "metadata": {},
     "output_type": "execute_result"
    }
   ],
   "source": [
    "list_of_humans"
   ]
  },
  {
   "cell_type": "code",
   "execution_count": 431,
   "metadata": {
    "collapsed": true
   },
   "outputs": [],
   "source": [
    "fake.random_int?"
   ]
  },
  {
   "cell_type": "code",
   "execution_count": 422,
   "metadata": {
    "collapsed": false
   },
   "outputs": [],
   "source": [
    "def srednia_bmi(human_list):\n",
    "    bmi_avg=0\n",
    "    for i in range(len(human_list)):\n",
    "        bmi_avg+=human_list[i].bmi()\n",
    "    return bmi_avg/len(human_list)\n"
   ]
  },
  {
   "cell_type": "code",
   "execution_count": 233,
   "metadata": {
    "collapsed": false
   },
   "outputs": [
    {
     "data": {
      "text/plain": [
       "25.34095007645287"
      ]
     },
     "execution_count": 233,
     "metadata": {},
     "output_type": "execute_result"
    }
   ],
   "source": [
    "srednia_bmi(human_list)"
   ]
  },
  {
   "cell_type": "code",
   "execution_count": 400,
   "metadata": {
    "collapsed": false
   },
   "outputs": [],
   "source": [
    "class population:\n",
    "\n",
    "    \n",
    "\n",
    "    def __init__(self,list_humans):\n",
    "        self.list_humans=list_humans\n",
    "        \n",
    "    def avg_bmi(self):\n",
    "        bmi_avg=0\n",
    "        for i in range(len(self.list_humans)):\n",
    "            bmi_avg+=self.list_humans[i].bmi()\n",
    "        return bmi_avg/len(self.list_humans)\n",
    "    \n",
    "    def median_bmi(self):\n",
    "        \n",
    "        import statistics\n",
    "        ls_bmi=[]\n",
    "        for i in range(len(self.list_humans)):\n",
    "            ls_bmi.append(self.list_humans[i].bmi())\n",
    "        return statistics.median(ls_bmi)\n",
    "        \n",
    "        \n",
    "    def median_bmi2(self):\n",
    "        ls_bmi=[]\n",
    "        for i in range(len(self.list_humans)):\n",
    "            ls_bmi.append(self.list_humans[i].bmi())\n",
    " \n",
    "        ls_bmi.sort()\n",
    "\n",
    "        if len(ls_bmi)%2==True:\n",
    "            return ls_bmi[len(ls_bmi)//2+1]\n",
    "        else: \n",
    "            return (ls_bmi[(len(ls_bmi)//2)-1]+ls_bmi[len(ls_bmi)//2])/2\n",
    "\n",
    "\n"
   ]
  },
  {
   "cell_type": "code",
   "execution_count": 401,
   "metadata": {
    "collapsed": false
   },
   "outputs": [],
   "source": [
    "a=population(human_list)"
   ]
  },
  {
   "cell_type": "code",
   "execution_count": 402,
   "metadata": {
    "collapsed": false
   },
   "outputs": [
    {
     "data": {
      "text/plain": [
       "25.34095007645287"
      ]
     },
     "execution_count": 402,
     "metadata": {},
     "output_type": "execute_result"
    }
   ],
   "source": [
    "a.avg_bmi()"
   ]
  },
  {
   "cell_type": "code",
   "execution_count": 403,
   "metadata": {
    "collapsed": false
   },
   "outputs": [
    {
     "data": {
      "text/plain": [
       "23.033764125484907"
      ]
     },
     "execution_count": 403,
     "metadata": {},
     "output_type": "execute_result"
    }
   ],
   "source": [
    "a.median_bmi()"
   ]
  },
  {
   "cell_type": "code",
   "execution_count": 404,
   "metadata": {
    "collapsed": false
   },
   "outputs": [
    {
     "data": {
      "text/plain": [
       "23.033764125484907"
      ]
     },
     "execution_count": 404,
     "metadata": {},
     "output_type": "execute_result"
    }
   ],
   "source": [
    "a.median_bmi2()"
   ]
  },
  {
   "cell_type": "code",
   "execution_count": 405,
   "metadata": {
    "collapsed": false
   },
   "outputs": [
    {
     "data": {
      "text/plain": [
       "2"
      ]
     },
     "execution_count": 405,
     "metadata": {},
     "output_type": "execute_result"
    }
   ],
   "source": [
    "import math\n",
    "math.floor(2.2)"
   ]
  },
  {
   "cell_type": "code",
   "execution_count": null,
   "metadata": {
    "collapsed": true
   },
   "outputs": [],
   "source": [
    "#repr bardziej echiczne str opisowo"
   ]
  }
 ],
 "metadata": {
  "kernelspec": {
   "display_name": "Python 3",
   "language": "python",
   "name": "python3"
  },
  "language_info": {
   "codemirror_mode": {
    "name": "ipython",
    "version": 3
   },
   "file_extension": ".py",
   "mimetype": "text/x-python",
   "name": "python",
   "nbconvert_exporter": "python",
   "pygments_lexer": "ipython3",
   "version": "3.6.0"
  }
 },
 "nbformat": 4,
 "nbformat_minor": 2
}
